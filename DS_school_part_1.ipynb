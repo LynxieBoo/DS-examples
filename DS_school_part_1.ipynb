{
 "cells": [
  {
   "cell_type": "markdown",
   "metadata": {},
   "source": [
    "<h1 style=\"color:green\">Выполнил(а): Бурова Татьяна</h1>"
   ]
  },
  {
   "cell_type": "markdown",
   "metadata": {
    "colab_type": "text",
    "id": "M6n_8Kgn9YIT"
   },
   "source": [
    "# Несколько заданий на пройденный материал"
   ]
  },
  {
   "cell_type": "markdown",
   "metadata": {
    "colab_type": "text",
    "id": "TT2xjEgu9nCx"
   },
   "source": [
    "*Подсказка!* проверяйте ваше решение по тому, что уже есть в блоках вывода ячеек"
   ]
  },
  {
   "cell_type": "markdown",
   "metadata": {
    "colab_type": "text",
    "id": "p8V0RKCF94h6"
   },
   "source": [
    "## Задача 1\n",
    "\n",
    "Создайте переменную a = 10, возвести значение в 3 степень и найти остаток от деления на 3."
   ]
  },
  {
   "cell_type": "code",
   "execution_count": 1,
   "metadata": {
    "colab": {
     "base_uri": "https://localhost:8080/",
     "height": 35
    },
    "colab_type": "code",
    "id": "_N-Bcj6D9300",
    "outputId": "af5151c0-2652-41a2-ab94-56246146b1fc"
   },
   "outputs": [
    {
     "data": {
      "text/plain": [
       "1"
      ]
     },
     "execution_count": 1,
     "metadata": {},
     "output_type": "execute_result"
    }
   ],
   "source": [
    "a = 10\n",
    "a = (a**3)%3\n",
    "a"
   ]
  },
  {
   "cell_type": "markdown",
   "metadata": {
    "colab_type": "text",
    "id": "S2BzQt1E99Np"
   },
   "source": [
    "## Задача 2\n",
    "\n",
    "Найдите площадь круга с радиусом 1.23456.\n",
    "\n",
    "(Считаем π = 3.14)"
   ]
  },
  {
   "cell_type": "code",
   "execution_count": 2,
   "metadata": {
    "colab": {
     "base_uri": "https://localhost:8080/",
     "height": 35
    },
    "colab_type": "code",
    "id": "mkN8EOc098t9",
    "outputId": "287c4ff0-b8d7-4f38-9791-b7b8c3ec4b75"
   },
   "outputs": [
    {
     "data": {
      "text/plain": [
       "4.785794555904"
      ]
     },
     "execution_count": 2,
     "metadata": {},
     "output_type": "execute_result"
    }
   ],
   "source": [
    "PI = 3.14\n",
    "def circle_area(radius):\n",
    "    return PI*(radius**2)\n",
    "\n",
    "circle_area(1.23456)"
   ]
  },
  {
   "cell_type": "markdown",
   "metadata": {
    "colab_type": "text",
    "id": "nP-f4Qd2-BTI"
   },
   "source": [
    "## Задача 3\n",
    "\n",
    "Найдите, истинно ли, что 2 в 10 степени больше 1000 при условии, что 4 в 7й степени меньше 8 в 5й.\n",
    "\n"
   ]
  },
  {
   "cell_type": "code",
   "execution_count": 3,
   "metadata": {
    "colab": {
     "base_uri": "https://localhost:8080/",
     "height": 35
    },
    "colab_type": "code",
    "id": "-reh5tB2-CPF",
    "outputId": "1778e92d-4a0b-4765-ac6f-ab6893dfbf2c"
   },
   "outputs": [
    {
     "data": {
      "text/plain": [
       "True"
      ]
     },
     "execution_count": 3,
     "metadata": {},
     "output_type": "execute_result"
    }
   ],
   "source": [
    "def strange_unequal():\n",
    "    return (4**7 < 8**5) and (2**10 > 1000)\n",
    "\n",
    "strange_unequal()"
   ]
  },
  {
   "cell_type": "markdown",
   "metadata": {
    "colab_type": "text",
    "id": "XcaKAyzZ-MOL"
   },
   "source": [
    "## Задача 4\n",
    "\n",
    "Мы принимаем целое число на ввод с клавиатуры (код предоставлен), вывести \"цена выше рынка\", если число выше 1200, \"цена ниже рыночной\", если число меньше 800 и \"все ок\" в остальных случаях."
   ]
  },
  {
   "cell_type": "code",
   "execution_count": 8,
   "metadata": {
    "colab": {
     "base_uri": "https://localhost:8080/",
     "height": 52
    },
    "colab_type": "code",
    "id": "3yLvK2JL-R1g",
    "outputId": "e7e02009-c04c-45f5-922b-9156130dad30"
   },
   "outputs": [
    {
     "name": "stdout",
     "output_type": "stream",
     "text": [
      "Введите цену товара: 1000\n",
      "все ок\n"
     ]
    }
   ],
   "source": [
    "price = int(input('Введите цену товара: '))\n",
    "\n",
    "if price > 1200:\n",
    "    print(\"цена выше рынка\")\n",
    "elif price < 800:\n",
    "    print(\"цена ниже рыночной\")\n",
    "else:\n",
    "    print(\"все ок\")"
   ]
  },
  {
   "cell_type": "markdown",
   "metadata": {
    "colab_type": "text",
    "id": "lV0tQp8J-bFI"
   },
   "source": [
    "## Задача 5\n",
    "\n",
    "Распечатайте с 4 по 8 символ фразы \"Привет мир!\" приведенные к верхнему регистру."
   ]
  },
  {
   "cell_type": "code",
   "execution_count": 11,
   "metadata": {
    "colab": {
     "base_uri": "https://localhost:8080/",
     "height": 35
    },
    "colab_type": "code",
    "id": "ECKlo9c2-cue",
    "outputId": "099a60e6-c9b8-46e9-bdd2-a000fd64e8f7"
   },
   "outputs": [
    {
     "data": {
      "text/plain": [
       "'ЕТ М'"
      ]
     },
     "execution_count": 11,
     "metadata": {},
     "output_type": "execute_result"
    }
   ],
   "source": [
    "base_str = \"Привет мир!\"\n",
    "\n",
    "printed_str = base_str[4:8].upper()\n",
    "printed_str"
   ]
  },
  {
   "cell_type": "markdown",
   "metadata": {
    "colab_type": "text",
    "id": "2jN3PzaZ-gx4"
   },
   "source": [
    "## Задача 6\n",
    "\n",
    "Создайте переменную, которая хранит описание этой задачи как строку, разделите слова по пробелам и приведите к нижнему регистру."
   ]
  },
  {
   "cell_type": "code",
   "execution_count": 13,
   "metadata": {
    "colab": {
     "base_uri": "https://localhost:8080/",
     "height": 329
    },
    "colab_type": "code",
    "id": "A-Ro4i8u-iHv",
    "outputId": "aa7b8330-28df-440d-f401-068f11c2f0a6"
   },
   "outputs": [
    {
     "data": {
      "text/plain": [
       "['создайте',\n",
       " 'переменную,',\n",
       " 'которая',\n",
       " 'хранит',\n",
       " 'описание',\n",
       " 'этой',\n",
       " 'задачи',\n",
       " 'как',\n",
       " 'строку,',\n",
       " 'разделите',\n",
       " 'слова',\n",
       " 'по',\n",
       " 'пробелам',\n",
       " 'и',\n",
       " 'приведите',\n",
       " 'к',\n",
       " 'нижнему',\n",
       " 'регистру.']"
      ]
     },
     "execution_count": 13,
     "metadata": {},
     "output_type": "execute_result"
    }
   ],
   "source": [
    "base_str = \"Создайте переменную, которая хранит описание этой задачи как строку, разделите слова по пробелам и приведите к нижнему регистру.\"\n",
    "\n",
    "word_list = [word for word in base_str.lower().split(\" \")]\n",
    "word_list"
   ]
  },
  {
   "cell_type": "markdown",
   "metadata": {
    "colab_type": "text",
    "id": "nE4N_rxk-l-L"
   },
   "source": [
    "## Задание 7\n",
    "\n",
    "Напишите код, который проверяет, является ли переменная x строкой, и если да, то если в строке больше одного слова (слово--последовательность подряд идущих символов без пробелов), то выводит на экран количество слов в этой строке и сами слова в алфавитном порядке."
   ]
  },
  {
   "cell_type": "code",
   "execution_count": 18,
   "metadata": {
    "colab": {
     "base_uri": "https://localhost:8080/",
     "height": 87
    },
    "colab_type": "code",
    "id": "INh5TwAM9Xmf",
    "outputId": "31ba633f-f368-44ef-e80a-875e295dd876"
   },
   "outputs": [
    {
     "name": "stdout",
     "output_type": "stream",
     "text": [
      "3\n",
      "hello\n",
      "world\n",
      "z\n"
     ]
    }
   ],
   "source": [
    "x = 'z hello world'\n",
    "\n",
    "if isinstance(x, str):\n",
    "    x_words = x.split(\" \")\n",
    "    x_words_count = len(x_words)\n",
    "    if x_words_count > 1:\n",
    "        print(x_words_count)\n",
    "        for word in sorted(x_words):\n",
    "            print(word)"
   ]
  },
  {
   "cell_type": "markdown",
   "metadata": {
    "colab_type": "text",
    "id": "TR1Wvx_Z-tlI"
   },
   "source": [
    "## Задание 8\n",
    "\n",
    "Напишите код, который все элементы массива x с **нечетными** индексами переставит в обратном порядке.\n",
    "\n",
    "Т.е. если x = [0, 1, 2, 3, 4, 5, 6, 7, 8, 9], то код должен получать [0, 9, 2, 7, 4, 5, 6, 3, 8, 1]"
   ]
  },
  {
   "cell_type": "code",
   "execution_count": 28,
   "metadata": {
    "colab": {
     "base_uri": "https://localhost:8080/",
     "height": 35
    },
    "colab_type": "code",
    "id": "hh2ackf09QjM",
    "outputId": "6a2fe33c-e7ce-43a3-d728-c517f6abf477"
   },
   "outputs": [
    {
     "data": {
      "text/plain": [
       "[0, 9, 2, 7, 4, 5, 6, 3, 8, 1]"
      ]
     },
     "execution_count": 28,
     "metadata": {},
     "output_type": "execute_result"
    }
   ],
   "source": [
    "base_list = [0, 1, 2, 3, 4, 5, 6, 7, 8, 9]\n",
    "test_list = [0, 1, 2, 3]\n",
    "\n",
    "def invert_odd_elements(input_list):\n",
    "    if len(input_list) < 2:\n",
    "        return base_list\n",
    "    even_elements = input_list[::2]\n",
    "    odd_elements = input_list[1::2]\n",
    "    odd_elements = odd_elements[::-1]\n",
    "    updated_list = even_elements\n",
    "    for ind, elem in enumerate(odd_elements):\n",
    "        updated_list.insert(ind*2+1, elem)\n",
    "    return updated_list\n",
    "    \n",
    "invert_odd_elements(base_list)"
   ]
  },
  {
   "cell_type": "markdown",
   "metadata": {
    "colab_type": "text",
    "id": "pdGccRcP-1CC"
   },
   "source": [
    "## Задание 9\n",
    "\n",
    "Напишите цикл, который выводит все числа от 0 до 500, делящиеся на 7, если в них есть цифра 8.\n",
    "\n",
    "*Подсказка*: переменную типа int можно привести к типу str:\n",
    "```\n",
    "x = 5\n",
    "y = str(x)\n",
    "```"
   ]
  },
  {
   "cell_type": "code",
   "execution_count": 29,
   "metadata": {
    "colab": {},
    "colab_type": "code",
    "id": "XAosJEH7sCmT"
   },
   "outputs": [
    {
     "name": "stdout",
     "output_type": "stream",
     "text": [
      "28\n",
      "84\n",
      "98\n",
      "168\n",
      "182\n",
      "189\n",
      "238\n",
      "280\n",
      "287\n",
      "308\n",
      "378\n",
      "385\n",
      "448\n",
      "483\n"
     ]
    }
   ],
   "source": [
    "for number in range(500):\n",
    "    if (number%7 == 0) and (str(number).find('8')>-1):\n",
    "        print(number)"
   ]
  },
  {
   "cell_type": "markdown",
   "metadata": {
    "colab_type": "text",
    "id": "VaeD81JuBfdE"
   },
   "source": [
    "# Доп задачи по пройденному материалу"
   ]
  },
  {
   "cell_type": "markdown",
   "metadata": {
    "colab_type": "text",
    "id": "TVh-gw54BqEm"
   },
   "source": [
    "## Задание 10\n",
    "\n",
    "1. Создайте список `a`, состоящий из каких-то элементов.\n",
    "2. Создайте список `b` такого же размера, как `a`, состоящий из каких-то элементов.\n",
    "3. Выведите **нумерованный список пар** из элементов списков `a` и `b`."
   ]
  },
  {
   "cell_type": "code",
   "execution_count": 34,
   "metadata": {
    "colab": {
     "base_uri": "https://localhost:8080/",
     "height": 52
    },
    "colab_type": "code",
    "id": "WkDpiGDsBcus",
    "outputId": "88ef9397-65ff-4ddf-acd0-5d6c40a2eba1"
   },
   "outputs": [
    {
     "data": {
      "text/plain": [
       "[(0, '11', 'x'), (1, '22', 'y'), (2, '33', 'z')]"
      ]
     },
     "execution_count": 34,
     "metadata": {},
     "output_type": "execute_result"
    }
   ],
   "source": [
    "# Ваш код здесь\n",
    "a = ['11', '22', '33']\n",
    "b = ['x', 'y', 'z'] # или 'xyz', но это уже не список, а строка\n",
    "\n",
    "zip_index = list(range(len(a))) # list(range(min(len(a), len(b)))) - если длины списков не точно одинаковы\n",
    "zip_ab = zip(zip_index, a, b)\n",
    "list(zip_ab)"
   ]
  },
  {
   "cell_type": "markdown",
   "metadata": {
    "colab_type": "text",
    "id": "51DfEzj3B1gV"
   },
   "source": [
    "## Задание 11\n",
    "\n",
    "Дан массив строк mas. Одной строкой создайте словарь, в котором по ключу строки будет записана пара (кортеж длины 2) (индекс строки в массиве mas, длина строки)"
   ]
  },
  {
   "cell_type": "code",
   "execution_count": 39,
   "metadata": {
    "colab": {
     "base_uri": "https://localhost:8080/",
     "height": 35
    },
    "colab_type": "code",
    "id": "azytv3ENBuH5",
    "outputId": "e0967bea-95a8-4841-bc62-5ef5c6e02163"
   },
   "outputs": [
    {
     "data": {
      "text/plain": [
       "{'hello': (0, 5), 'abc': (1, 3)}"
      ]
     },
     "execution_count": 39,
     "metadata": {},
     "output_type": "execute_result"
    }
   ],
   "source": [
    "mas = ['hello', 'abc']\n",
    "res = {string: (i, len(string)) for (i, string) in enumerate(mas)}\n",
    "res"
   ]
  },
  {
   "cell_type": "markdown",
   "metadata": {
    "colab_type": "text",
    "id": "NNgNKKtUB-7d"
   },
   "source": [
    "## Задание 12\n",
    "\n",
    "Релизовать функцию, которая возвращает сумму всех позиционных и именованных аргументов."
   ]
  },
  {
   "cell_type": "code",
   "execution_count": 42,
   "metadata": {
    "colab": {
     "base_uri": "https://localhost:8080/",
     "height": 35
    },
    "colab_type": "code",
    "id": "8MrgHc1eB47J",
    "outputId": "19b7e7ff-5c8a-42a3-d752-5b8bc55f6d95"
   },
   "outputs": [
    {
     "name": "stdout",
     "output_type": "stream",
     "text": [
      "15\n"
     ]
    }
   ],
   "source": [
    "def func(*args, **kwargs):\n",
    "    return sum(args)+sum(kwargs.values())\n",
    "\n",
    "print(func(1, 2, 3, a=4, b=5))"
   ]
  },
  {
   "cell_type": "markdown",
   "metadata": {
    "colab_type": "text",
    "id": "l-3fE5H-CIqe"
   },
   "source": [
    "## Задание 13\n",
    "\n",
    "Реализовать функцию, которая сохраняет в 2 глобальные переменные:\n",
    "* сумму всех позиционных аргументов - релизовать через  lambda;\n",
    "* название всех именованных аргументов в виде списка."
   ]
  },
  {
   "cell_type": "code",
   "execution_count": 46,
   "metadata": {
    "colab": {
     "base_uri": "https://localhost:8080/",
     "height": 35
    },
    "colab_type": "code",
    "id": "Nhp1NLZJCGXI",
    "outputId": "bff2a684-f2b8-4d61-c406-3ef7ac7394a3"
   },
   "outputs": [
    {
     "name": "stdout",
     "output_type": "stream",
     "text": [
      "Cумма 6, названия ['a', 'b']\n"
     ]
    }
   ],
   "source": [
    "from functools import reduce\n",
    "\n",
    "summ = 0\n",
    "names = []\n",
    "\n",
    "def another_func(*args, **kwargs):\n",
    "    global summ, names\n",
    "    summ = reduce(lambda x, y: x + y, args) # зачем тут lambda?\n",
    "    names = list(kwargs.keys())\n",
    "\n",
    "another_func(1, 2, 3, a=4, b=5)\n",
    "\n",
    "print(f'Cумма {summ}, названия {names}')"
   ]
  },
  {
   "cell_type": "markdown",
   "metadata": {
    "colab_type": "text",
    "id": "HPbaEwHLCTLI"
   },
   "source": [
    "## Задание 14\n",
    "\n",
    "Реализовать класс с 2 функциями:\n",
    "\n",
    "*   Первая функция копирует функционал задачи №13, но сохраняет переменные в области видимости класса;\n",
    "*   Вторая функция отображает на экран сумму и названия именованных аргументов.\n",
    "\n"
   ]
  },
  {
   "cell_type": "code",
   "execution_count": 47,
   "metadata": {
    "colab": {
     "base_uri": "https://localhost:8080/",
     "height": 35
    },
    "colab_type": "code",
    "id": "FvqwsvY4COmH",
    "outputId": "dc41071b-7b87-4faf-9259-ef382de33d34"
   },
   "outputs": [
    {
     "name": "stdout",
     "output_type": "stream",
     "text": [
      "Cумма 6, названия ['a', 'b']\n"
     ]
    }
   ],
   "source": [
    "class Solution():\n",
    "    \n",
    "    def __init__(self):\n",
    "        summ = 0\n",
    "        names = []\n",
    "        \n",
    "    def another_func(self, *args, **kwargs):\n",
    "        self.summ = sum(args)\n",
    "        self.names = list(kwargs.keys())\n",
    "    \n",
    "    def print_args_kwargs(self):\n",
    "        print(f'Cумма {self.summ}, названия {self.names}')\n",
    "\n",
    "        \n",
    "\n",
    "class_obj = Solution()\n",
    "class_obj.another_func(1, 2, 3, a=4, b=5)\n",
    "class_obj.print_args_kwargs()"
   ]
  }
 ],
 "metadata": {
  "colab": {
   "collapsed_sections": [],
   "name": "Повторение python.ipynb",
   "provenance": [],
   "toc_visible": true
  },
  "kernelspec": {
   "display_name": "Python 3",
   "language": "python",
   "name": "python3"
  },
  "language_info": {
   "codemirror_mode": {
    "name": "ipython",
    "version": 3
   },
   "file_extension": ".py",
   "mimetype": "text/x-python",
   "name": "python",
   "nbconvert_exporter": "python",
   "pygments_lexer": "ipython3",
   "version": "3.8.3"
  }
 },
 "nbformat": 4,
 "nbformat_minor": 4
}
