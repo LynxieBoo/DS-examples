{
 "cells": [
  {
   "cell_type": "markdown",
   "metadata": {},
   "source": [
    "<div style=\"background:red\">&nbsp;</div>\n",
    "<h1>Занятие 2</h1>\n",
    "<div style=\"background:red\">&nbsp;</div>"
   ]
  },
  {
   "cell_type": "code",
   "execution_count": 1,
   "metadata": {
    "colab": {},
    "colab_type": "code",
    "id": "D-Lc19J4WL-3"
   },
   "outputs": [],
   "source": [
    "# загрузим библиотеки\n",
    "import numpy as np\n",
    "import pandas as pd"
   ]
  },
  {
   "cell_type": "markdown",
   "metadata": {
    "colab_type": "text",
    "id": "ZYcKnimkFRrD"
   },
   "source": [
    "## Задание 1\n",
    "\n",
    "Создайте массив массив из 100 элементов (от 1 до 100), переформатируйте в формат (10 * 10), сделайте слайсинг с шагом 2 по каждой оси."
   ]
  },
  {
   "cell_type": "code",
   "execution_count": 2,
   "metadata": {
    "colab": {
     "base_uri": "https://localhost:8080/",
     "height": 104
    },
    "colab_type": "code",
    "id": "wAPfX3erFUqa",
    "outputId": "dc42bf72-220d-4f84-ffb5-d105d44f1eb5"
   },
   "outputs": [
    {
     "data": {
      "text/plain": [
       "array([[ 1,  3,  5,  7,  9],\n",
       "       [21, 23, 25, 27, 29],\n",
       "       [41, 43, 45, 47, 49],\n",
       "       [61, 63, 65, 67, 69],\n",
       "       [81, 83, 85, 87, 89]])"
      ]
     },
     "execution_count": 2,
     "metadata": {},
     "output_type": "execute_result"
    }
   ],
   "source": [
    "a = np.arange(start=1, stop=101).reshape((10, 10))[::2,::2]\n",
    "a"
   ]
  },
  {
   "cell_type": "markdown",
   "metadata": {
    "colab_type": "text",
    "id": "SrI3heKeV7nP"
   },
   "source": [
    "## Задание 2\n",
    "\n",
    "Написать функцию, которая по заданной длине последовательности находит среднее арифметическое ее членов.\n",
    "\n",
    "Реализуйте задачу с и без помощи numpy, сравните время выполнения"
   ]
  },
  {
   "cell_type": "code",
   "execution_count": 4,
   "metadata": {
    "colab": {
     "base_uri": "https://localhost:8080/",
     "height": 69
    },
    "colab_type": "code",
    "id": "2-5-E2pCV_Ot",
    "outputId": "9c37ee36-f0ff-4900-b7ce-1c0afec7ed96"
   },
   "outputs": [
    {
     "name": "stdout",
     "output_type": "stream",
     "text": [
      "Wall time: 444 ms\n"
     ]
    },
    {
     "data": {
      "text/plain": [
       "49999999.5"
      ]
     },
     "execution_count": 4,
     "metadata": {},
     "output_type": "execute_result"
    }
   ],
   "source": [
    "%%time\n",
    "# зададим длину нашей последовательности\n",
    "dlina_posl = 100_000_000\n",
    "\n",
    "# использование numpy\n",
    "b = np.arange(dlina_posl).mean()\n",
    "b"
   ]
  },
  {
   "cell_type": "code",
   "execution_count": 5,
   "metadata": {
    "colab": {
     "base_uri": "https://localhost:8080/",
     "height": 69
    },
    "colab_type": "code",
    "id": "9e3X5PEpWBjA",
    "outputId": "5635c941-4985-4620-880d-f134e065d639"
   },
   "outputs": [
    {
     "name": "stdout",
     "output_type": "stream",
     "text": [
      "Wall time: 13.3 s\n"
     ]
    },
    {
     "data": {
      "text/plain": [
       "49999999.5"
      ]
     },
     "execution_count": 5,
     "metadata": {},
     "output_type": "execute_result"
    }
   ],
   "source": [
    "%%time\n",
    "# решение без использования numpy\n",
    "\n",
    "a = [x for x in range(dlina_posl)]\n",
    "sum(a)/len(a)"
   ]
  },
  {
   "cell_type": "markdown",
   "metadata": {
    "colab_type": "text",
    "id": "aF_IhXzJFWzJ"
   },
   "source": [
    "## Задание 3\n",
    "\n",
    "Задан Series объект s, найти индекс первого элемента отсортированного s, где значения больше 5"
   ]
  },
  {
   "cell_type": "code",
   "execution_count": 56,
   "metadata": {
    "colab": {
     "base_uri": "https://localhost:8080/",
     "height": 35
    },
    "colab_type": "code",
    "id": "PzrBc2RRFYom",
    "outputId": "46bcc281-6c5d-466f-c099-d0df13b45c4e"
   },
   "outputs": [],
   "source": [
    "# задано изначально\n",
    "r = np.random.RandomState(1)\n",
    "s = pd.Series(r.uniform(0, 10, 100))"
   ]
  },
  {
   "cell_type": "code",
   "execution_count": 72,
   "metadata": {},
   "outputs": [
    {
     "data": {
      "text/plain": [
       "67"
      ]
     },
     "execution_count": 72,
     "metadata": {},
     "output_type": "execute_result"
    }
   ],
   "source": [
    "s[s.gt(5)].sort_values().index[0]"
   ]
  },
  {
   "cell_type": "markdown",
   "metadata": {
    "colab_type": "text",
    "id": "lK7mPJPRWcs2"
   },
   "source": [
    "## Задание 4\n",
    "\n",
    "Предположим, что мы наблюдаем за некоторым признаком нашего датасета, но в данных есть пропуски. Ваша задача: реализовать алгоритм заполнения пропущенных значений последним известным с помощью средств python и pandas. (подсказка: вам может помочь функция np.isnan(), которая возвращает True, если число - nan. Для реализации с пандас стоит посмотреть на метод .fillna).\n",
    "\n",
    "Изначальный код с инициализацией такого датасета предоставлен."
   ]
  },
  {
   "cell_type": "code",
   "execution_count": 33,
   "metadata": {
    "colab": {
     "base_uri": "https://localhost:8080/",
     "height": 282
    },
    "colab_type": "code",
    "id": "Eu5g1x-hWcA1",
    "outputId": "622e219a-544b-475d-ebe2-0328ae147ad0"
   },
   "outputs": [
    {
     "data": {
      "text/html": [
       "<div>\n",
       "<style scoped>\n",
       "    .dataframe tbody tr th:only-of-type {\n",
       "        vertical-align: middle;\n",
       "    }\n",
       "\n",
       "    .dataframe tbody tr th {\n",
       "        vertical-align: top;\n",
       "    }\n",
       "\n",
       "    .dataframe thead th {\n",
       "        text-align: right;\n",
       "    }\n",
       "</style>\n",
       "<table border=\"1\" class=\"dataframe\">\n",
       "  <thead>\n",
       "    <tr style=\"text-align: right;\">\n",
       "      <th></th>\n",
       "      <th>target</th>\n",
       "    </tr>\n",
       "  </thead>\n",
       "  <tbody>\n",
       "    <tr>\n",
       "      <th>6</th>\n",
       "      <td>NaN</td>\n",
       "    </tr>\n",
       "    <tr>\n",
       "      <th>8</th>\n",
       "      <td>NaN</td>\n",
       "    </tr>\n",
       "    <tr>\n",
       "      <th>9</th>\n",
       "      <td>NaN</td>\n",
       "    </tr>\n",
       "    <tr>\n",
       "      <th>12</th>\n",
       "      <td>NaN</td>\n",
       "    </tr>\n",
       "    <tr>\n",
       "      <th>29</th>\n",
       "      <td>NaN</td>\n",
       "    </tr>\n",
       "    <tr>\n",
       "      <th>46</th>\n",
       "      <td>NaN</td>\n",
       "    </tr>\n",
       "    <tr>\n",
       "      <th>62</th>\n",
       "      <td>NaN</td>\n",
       "    </tr>\n",
       "    <tr>\n",
       "      <th>84</th>\n",
       "      <td>NaN</td>\n",
       "    </tr>\n",
       "    <tr>\n",
       "      <th>89</th>\n",
       "      <td>NaN</td>\n",
       "    </tr>\n",
       "    <tr>\n",
       "      <th>90</th>\n",
       "      <td>NaN</td>\n",
       "    </tr>\n",
       "  </tbody>\n",
       "</table>\n",
       "</div>"
      ],
      "text/plain": [
       "    target\n",
       "6      NaN\n",
       "8      NaN\n",
       "9      NaN\n",
       "12     NaN\n",
       "29     NaN\n",
       "46     NaN\n",
       "62     NaN\n",
       "84     NaN\n",
       "89     NaN\n",
       "90     NaN"
      ]
     },
     "execution_count": 33,
     "metadata": {},
     "output_type": "execute_result"
    }
   ],
   "source": [
    "# импортируем библиотеку для создания шума\n",
    "import random\n",
    "# библиотека для визуализации\n",
    "import matplotlib.pyplot as plt\n",
    "\n",
    "# создадим наши данные и добавим к каждой точке синусоиды случайный шум\n",
    "a = np.linspace(0, 25, 100)\n",
    "a = np.sin(a) + [random.gauss(0, 0.2) for i in range(len(a))]\n",
    "\n",
    "# создадим 10 случайных пропусков\n",
    "for i in range(10):\n",
    "    a[random.randint(0, len(a) - 1)] = None\n",
    "# создадим датафрейм\n",
    "df = pd.DataFrame({'target':a})\n",
    "\n",
    "# выведем индексы всех затертых элементов\n",
    "df[df.isna().any(axis=1)]"
   ]
  },
  {
   "cell_type": "code",
   "execution_count": 35,
   "metadata": {},
   "outputs": [
    {
     "data": {
      "text/html": [
       "<div>\n",
       "<style scoped>\n",
       "    .dataframe tbody tr th:only-of-type {\n",
       "        vertical-align: middle;\n",
       "    }\n",
       "\n",
       "    .dataframe tbody tr th {\n",
       "        vertical-align: top;\n",
       "    }\n",
       "\n",
       "    .dataframe thead th {\n",
       "        text-align: right;\n",
       "    }\n",
       "</style>\n",
       "<table border=\"1\" class=\"dataframe\">\n",
       "  <thead>\n",
       "    <tr style=\"text-align: right;\">\n",
       "      <th></th>\n",
       "      <th>target</th>\n",
       "    </tr>\n",
       "  </thead>\n",
       "  <tbody>\n",
       "    <tr>\n",
       "      <th>0</th>\n",
       "      <td>-0.111170</td>\n",
       "    </tr>\n",
       "    <tr>\n",
       "      <th>1</th>\n",
       "      <td>0.367507</td>\n",
       "    </tr>\n",
       "    <tr>\n",
       "      <th>2</th>\n",
       "      <td>0.263086</td>\n",
       "    </tr>\n",
       "    <tr>\n",
       "      <th>3</th>\n",
       "      <td>0.307105</td>\n",
       "    </tr>\n",
       "    <tr>\n",
       "      <th>4</th>\n",
       "      <td>0.795337</td>\n",
       "    </tr>\n",
       "    <tr>\n",
       "      <th>5</th>\n",
       "      <td>0.957590</td>\n",
       "    </tr>\n",
       "    <tr>\n",
       "      <th>6</th>\n",
       "      <td>0.957590</td>\n",
       "    </tr>\n",
       "    <tr>\n",
       "      <th>7</th>\n",
       "      <td>1.261412</td>\n",
       "    </tr>\n",
       "    <tr>\n",
       "      <th>8</th>\n",
       "      <td>1.261412</td>\n",
       "    </tr>\n",
       "    <tr>\n",
       "      <th>9</th>\n",
       "      <td>1.261412</td>\n",
       "    </tr>\n",
       "    <tr>\n",
       "      <th>10</th>\n",
       "      <td>0.449010</td>\n",
       "    </tr>\n",
       "    <tr>\n",
       "      <th>11</th>\n",
       "      <td>0.713710</td>\n",
       "    </tr>\n",
       "    <tr>\n",
       "      <th>12</th>\n",
       "      <td>0.713710</td>\n",
       "    </tr>\n",
       "    <tr>\n",
       "      <th>13</th>\n",
       "      <td>-0.101840</td>\n",
       "    </tr>\n",
       "    <tr>\n",
       "      <th>14</th>\n",
       "      <td>0.109217</td>\n",
       "    </tr>\n",
       "  </tbody>\n",
       "</table>\n",
       "</div>"
      ],
      "text/plain": [
       "      target\n",
       "0  -0.111170\n",
       "1   0.367507\n",
       "2   0.263086\n",
       "3   0.307105\n",
       "4   0.795337\n",
       "5   0.957590\n",
       "6   0.957590\n",
       "7   1.261412\n",
       "8   1.261412\n",
       "9   1.261412\n",
       "10  0.449010\n",
       "11  0.713710\n",
       "12  0.713710\n",
       "13 -0.101840\n",
       "14  0.109217"
      ]
     },
     "execution_count": 35,
     "metadata": {},
     "output_type": "execute_result"
    }
   ],
   "source": [
    "# здесь в качестве параметра в head передадим значение, достаточное для наблюдения корректности заполнения пропусков\n",
    "df.fillna(method='ffill', inplace=True)\n",
    "df.head(15)"
   ]
  },
  {
   "cell_type": "code",
   "execution_count": 36,
   "metadata": {},
   "outputs": [
    {
     "data": {
      "text/plain": [
       "[<matplotlib.lines.Line2D at 0x1b7004034f0>]"
      ]
     },
     "execution_count": 36,
     "metadata": {},
     "output_type": "execute_result"
    },
    {
     "data": {
      "image/png": "[encoded data removed]",
      "text/plain": [
       "<Figure size 432x288 with 1 Axes>"
      ]
     },
     "metadata": {
      "needs_background": "light"
     },
     "output_type": "display_data"
    }
   ],
   "source": [
    "# на графике заметны характерные \"ступеньки\" в местах заполненных пропусков\n",
    "plt.plot(df.target.values)"
   ]
  },
  {
   "cell_type": "markdown",
   "metadata": {
    "colab_type": "text",
    "id": "5gYj1TeyW9Aq"
   },
   "source": [
    "## Задание 5\n",
    "\n",
    "Имеется небольшой игрушечный датафрейм, в котором необходимо провести несколько типов фильтраций (ответы ищите в решениях) и отобразить результат:\n",
    "\n",
    "* всех, кто старше 40\n",
    "* всех, кто имеет доход выше среднего по датасету\n",
    "* всех, кто имеет доход выше среднего по датасету, но надежность ниже среднего по датасету\n",
    "\n",
    "создать новые столбцы:\n",
    "\n",
    "* важность клиента = доход * надежность\n",
    "* возможная долгосрочность клиента = важность клиента * (средний возраст по датасету - возраст клиента)\n",
    "\n",
    "`подсказка: двойные условия записываются так: (условие 1) & (условие 2)`\n",
    "\n",
    "\n",
    "** примечание: столбцы не имеют отношения к реальным формулам или моделям, они необходимы только для наглядности"
   ]
  },
  {
   "cell_type": "code",
   "execution_count": 73,
   "metadata": {
    "colab": {
     "base_uri": "https://localhost:8080/",
     "height": 171
    },
    "colab_type": "code",
    "id": "vHvedF6tXAWF",
    "outputId": "f65d673f-77af-44bf-e4cd-72a8b96f24c9"
   },
   "outputs": [],
   "source": [
    "# создадим тестовый датасет\n",
    "df = pd.DataFrame({\n",
    "    'имя': ['Петя', 'Вася', 'Аня', 'Света'],\n",
    "    'возраст': [45, 26, 41 , 21],\n",
    "    'доход': [100000, 80000, 150000, 60000],\n",
    "    'надежность клиента (0..1)': [0.65, 0.74, 0.87, 0.68],\n",
    "    'пол': ['муж', 'муж', 'жен', 'жен']},\n",
    "    index=[0, 1, 2, 3])"
   ]
  },
  {
   "cell_type": "code",
   "execution_count": 74,
   "metadata": {},
   "outputs": [
    {
     "data": {
      "text/html": [
       "<div>\n",
       "<style scoped>\n",
       "    .dataframe tbody tr th:only-of-type {\n",
       "        vertical-align: middle;\n",
       "    }\n",
       "\n",
       "    .dataframe tbody tr th {\n",
       "        vertical-align: top;\n",
       "    }\n",
       "\n",
       "    .dataframe thead th {\n",
       "        text-align: right;\n",
       "    }\n",
       "</style>\n",
       "<table border=\"1\" class=\"dataframe\">\n",
       "  <thead>\n",
       "    <tr style=\"text-align: right;\">\n",
       "      <th></th>\n",
       "      <th>имя</th>\n",
       "      <th>возраст</th>\n",
       "      <th>доход</th>\n",
       "      <th>надежность клиента (0..1)</th>\n",
       "      <th>пол</th>\n",
       "    </tr>\n",
       "  </thead>\n",
       "  <tbody>\n",
       "    <tr>\n",
       "      <th>0</th>\n",
       "      <td>Петя</td>\n",
       "      <td>45</td>\n",
       "      <td>100000</td>\n",
       "      <td>0.65</td>\n",
       "      <td>муж</td>\n",
       "    </tr>\n",
       "    <tr>\n",
       "      <th>1</th>\n",
       "      <td>Вася</td>\n",
       "      <td>26</td>\n",
       "      <td>80000</td>\n",
       "      <td>0.74</td>\n",
       "      <td>муж</td>\n",
       "    </tr>\n",
       "    <tr>\n",
       "      <th>2</th>\n",
       "      <td>Аня</td>\n",
       "      <td>41</td>\n",
       "      <td>150000</td>\n",
       "      <td>0.87</td>\n",
       "      <td>жен</td>\n",
       "    </tr>\n",
       "    <tr>\n",
       "      <th>3</th>\n",
       "      <td>Света</td>\n",
       "      <td>21</td>\n",
       "      <td>60000</td>\n",
       "      <td>0.68</td>\n",
       "      <td>жен</td>\n",
       "    </tr>\n",
       "  </tbody>\n",
       "</table>\n",
       "</div>"
      ],
      "text/plain": [
       "     имя  возраст   доход  надежность клиента (0..1)  пол\n",
       "0   Петя       45  100000                       0.65  муж\n",
       "1   Вася       26   80000                       0.74  муж\n",
       "2    Аня       41  150000                       0.87  жен\n",
       "3  Света       21   60000                       0.68  жен"
      ]
     },
     "execution_count": 74,
     "metadata": {},
     "output_type": "execute_result"
    }
   ],
   "source": [
    "df"
   ]
  },
  {
   "cell_type": "code",
   "execution_count": 77,
   "metadata": {},
   "outputs": [
    {
     "data": {
      "text/html": [
       "<div>\n",
       "<style scoped>\n",
       "    .dataframe tbody tr th:only-of-type {\n",
       "        vertical-align: middle;\n",
       "    }\n",
       "\n",
       "    .dataframe tbody tr th {\n",
       "        vertical-align: top;\n",
       "    }\n",
       "\n",
       "    .dataframe thead th {\n",
       "        text-align: right;\n",
       "    }\n",
       "</style>\n",
       "<table border=\"1\" class=\"dataframe\">\n",
       "  <thead>\n",
       "    <tr style=\"text-align: right;\">\n",
       "      <th></th>\n",
       "      <th>имя</th>\n",
       "      <th>возраст</th>\n",
       "      <th>доход</th>\n",
       "      <th>надежность клиента (0..1)</th>\n",
       "      <th>пол</th>\n",
       "    </tr>\n",
       "  </thead>\n",
       "  <tbody>\n",
       "    <tr>\n",
       "      <th>0</th>\n",
       "      <td>Петя</td>\n",
       "      <td>45</td>\n",
       "      <td>100000</td>\n",
       "      <td>0.65</td>\n",
       "      <td>муж</td>\n",
       "    </tr>\n",
       "    <tr>\n",
       "      <th>2</th>\n",
       "      <td>Аня</td>\n",
       "      <td>41</td>\n",
       "      <td>150000</td>\n",
       "      <td>0.87</td>\n",
       "      <td>жен</td>\n",
       "    </tr>\n",
       "  </tbody>\n",
       "</table>\n",
       "</div>"
      ],
      "text/plain": [
       "    имя  возраст   доход  надежность клиента (0..1)  пол\n",
       "0  Петя       45  100000                       0.65  муж\n",
       "2   Аня       41  150000                       0.87  жен"
      ]
     },
     "execution_count": 77,
     "metadata": {},
     "output_type": "execute_result"
    }
   ],
   "source": [
    "df[df['возраст']>40]"
   ]
  },
  {
   "cell_type": "code",
   "execution_count": 78,
   "metadata": {},
   "outputs": [
    {
     "data": {
      "text/html": [
       "<div>\n",
       "<style scoped>\n",
       "    .dataframe tbody tr th:only-of-type {\n",
       "        vertical-align: middle;\n",
       "    }\n",
       "\n",
       "    .dataframe tbody tr th {\n",
       "        vertical-align: top;\n",
       "    }\n",
       "\n",
       "    .dataframe thead th {\n",
       "        text-align: right;\n",
       "    }\n",
       "</style>\n",
       "<table border=\"1\" class=\"dataframe\">\n",
       "  <thead>\n",
       "    <tr style=\"text-align: right;\">\n",
       "      <th></th>\n",
       "      <th>имя</th>\n",
       "      <th>возраст</th>\n",
       "      <th>доход</th>\n",
       "      <th>надежность клиента (0..1)</th>\n",
       "      <th>пол</th>\n",
       "    </tr>\n",
       "  </thead>\n",
       "  <tbody>\n",
       "    <tr>\n",
       "      <th>0</th>\n",
       "      <td>Петя</td>\n",
       "      <td>45</td>\n",
       "      <td>100000</td>\n",
       "      <td>0.65</td>\n",
       "      <td>муж</td>\n",
       "    </tr>\n",
       "    <tr>\n",
       "      <th>2</th>\n",
       "      <td>Аня</td>\n",
       "      <td>41</td>\n",
       "      <td>150000</td>\n",
       "      <td>0.87</td>\n",
       "      <td>жен</td>\n",
       "    </tr>\n",
       "  </tbody>\n",
       "</table>\n",
       "</div>"
      ],
      "text/plain": [
       "    имя  возраст   доход  надежность клиента (0..1)  пол\n",
       "0  Петя       45  100000                       0.65  муж\n",
       "2   Аня       41  150000                       0.87  жен"
      ]
     },
     "execution_count": 78,
     "metadata": {},
     "output_type": "execute_result"
    }
   ],
   "source": [
    "df[df['доход']>df['доход'].mean()]"
   ]
  },
  {
   "cell_type": "code",
   "execution_count": 79,
   "metadata": {},
   "outputs": [
    {
     "data": {
      "text/html": [
       "<div>\n",
       "<style scoped>\n",
       "    .dataframe tbody tr th:only-of-type {\n",
       "        vertical-align: middle;\n",
       "    }\n",
       "\n",
       "    .dataframe tbody tr th {\n",
       "        vertical-align: top;\n",
       "    }\n",
       "\n",
       "    .dataframe thead th {\n",
       "        text-align: right;\n",
       "    }\n",
       "</style>\n",
       "<table border=\"1\" class=\"dataframe\">\n",
       "  <thead>\n",
       "    <tr style=\"text-align: right;\">\n",
       "      <th></th>\n",
       "      <th>имя</th>\n",
       "      <th>возраст</th>\n",
       "      <th>доход</th>\n",
       "      <th>надежность клиента (0..1)</th>\n",
       "      <th>пол</th>\n",
       "    </tr>\n",
       "  </thead>\n",
       "  <tbody>\n",
       "    <tr>\n",
       "      <th>0</th>\n",
       "      <td>Петя</td>\n",
       "      <td>45</td>\n",
       "      <td>100000</td>\n",
       "      <td>0.65</td>\n",
       "      <td>муж</td>\n",
       "    </tr>\n",
       "  </tbody>\n",
       "</table>\n",
       "</div>"
      ],
      "text/plain": [
       "    имя  возраст   доход  надежность клиента (0..1)  пол\n",
       "0  Петя       45  100000                       0.65  муж"
      ]
     },
     "execution_count": 79,
     "metadata": {},
     "output_type": "execute_result"
    }
   ],
   "source": [
    "df[(df['доход']>df['доход'].mean()) & (df['надежность клиента (0..1)']<df['надежность клиента (0..1)'].mean())]"
   ]
  },
  {
   "cell_type": "code",
   "execution_count": 81,
   "metadata": {},
   "outputs": [
    {
     "data": {
      "text/html": [
       "<div>\n",
       "<style scoped>\n",
       "    .dataframe tbody tr th:only-of-type {\n",
       "        vertical-align: middle;\n",
       "    }\n",
       "\n",
       "    .dataframe tbody tr th {\n",
       "        vertical-align: top;\n",
       "    }\n",
       "\n",
       "    .dataframe thead th {\n",
       "        text-align: right;\n",
       "    }\n",
       "</style>\n",
       "<table border=\"1\" class=\"dataframe\">\n",
       "  <thead>\n",
       "    <tr style=\"text-align: right;\">\n",
       "      <th></th>\n",
       "      <th>имя</th>\n",
       "      <th>возраст</th>\n",
       "      <th>доход</th>\n",
       "      <th>надежность клиента (0..1)</th>\n",
       "      <th>пол</th>\n",
       "      <th>Важность клиента</th>\n",
       "    </tr>\n",
       "  </thead>\n",
       "  <tbody>\n",
       "    <tr>\n",
       "      <th>0</th>\n",
       "      <td>Петя</td>\n",
       "      <td>45</td>\n",
       "      <td>100000</td>\n",
       "      <td>0.65</td>\n",
       "      <td>муж</td>\n",
       "      <td>65000.0</td>\n",
       "    </tr>\n",
       "    <tr>\n",
       "      <th>1</th>\n",
       "      <td>Вася</td>\n",
       "      <td>26</td>\n",
       "      <td>80000</td>\n",
       "      <td>0.74</td>\n",
       "      <td>муж</td>\n",
       "      <td>59200.0</td>\n",
       "    </tr>\n",
       "    <tr>\n",
       "      <th>2</th>\n",
       "      <td>Аня</td>\n",
       "      <td>41</td>\n",
       "      <td>150000</td>\n",
       "      <td>0.87</td>\n",
       "      <td>жен</td>\n",
       "      <td>130500.0</td>\n",
       "    </tr>\n",
       "    <tr>\n",
       "      <th>3</th>\n",
       "      <td>Света</td>\n",
       "      <td>21</td>\n",
       "      <td>60000</td>\n",
       "      <td>0.68</td>\n",
       "      <td>жен</td>\n",
       "      <td>40800.0</td>\n",
       "    </tr>\n",
       "  </tbody>\n",
       "</table>\n",
       "</div>"
      ],
      "text/plain": [
       "     имя  возраст   доход  надежность клиента (0..1)  пол  Важность клиента\n",
       "0   Петя       45  100000                       0.65  муж           65000.0\n",
       "1   Вася       26   80000                       0.74  муж           59200.0\n",
       "2    Аня       41  150000                       0.87  жен          130500.0\n",
       "3  Света       21   60000                       0.68  жен           40800.0"
      ]
     },
     "execution_count": 81,
     "metadata": {},
     "output_type": "execute_result"
    }
   ],
   "source": [
    "df['Важность клиента'] = df['доход']*df['надежность клиента (0..1)']\n",
    "df"
   ]
  },
  {
   "cell_type": "code",
   "execution_count": 83,
   "metadata": {},
   "outputs": [
    {
     "data": {
      "text/html": [
       "<div>\n",
       "<style scoped>\n",
       "    .dataframe tbody tr th:only-of-type {\n",
       "        vertical-align: middle;\n",
       "    }\n",
       "\n",
       "    .dataframe tbody tr th {\n",
       "        vertical-align: top;\n",
       "    }\n",
       "\n",
       "    .dataframe thead th {\n",
       "        text-align: right;\n",
       "    }\n",
       "</style>\n",
       "<table border=\"1\" class=\"dataframe\">\n",
       "  <thead>\n",
       "    <tr style=\"text-align: right;\">\n",
       "      <th></th>\n",
       "      <th>имя</th>\n",
       "      <th>возраст</th>\n",
       "      <th>доход</th>\n",
       "      <th>надежность клиента (0..1)</th>\n",
       "      <th>пол</th>\n",
       "      <th>Важность клиента</th>\n",
       "      <th>возможная долгосрочность клиента</th>\n",
       "    </tr>\n",
       "  </thead>\n",
       "  <tbody>\n",
       "    <tr>\n",
       "      <th>0</th>\n",
       "      <td>Петя</td>\n",
       "      <td>45</td>\n",
       "      <td>100000</td>\n",
       "      <td>0.65</td>\n",
       "      <td>муж</td>\n",
       "      <td>65000.0</td>\n",
       "      <td>-763750.0</td>\n",
       "    </tr>\n",
       "    <tr>\n",
       "      <th>1</th>\n",
       "      <td>Вася</td>\n",
       "      <td>26</td>\n",
       "      <td>80000</td>\n",
       "      <td>0.74</td>\n",
       "      <td>муж</td>\n",
       "      <td>59200.0</td>\n",
       "      <td>429200.0</td>\n",
       "    </tr>\n",
       "    <tr>\n",
       "      <th>2</th>\n",
       "      <td>Аня</td>\n",
       "      <td>41</td>\n",
       "      <td>150000</td>\n",
       "      <td>0.87</td>\n",
       "      <td>жен</td>\n",
       "      <td>130500.0</td>\n",
       "      <td>-1011375.0</td>\n",
       "    </tr>\n",
       "    <tr>\n",
       "      <th>3</th>\n",
       "      <td>Света</td>\n",
       "      <td>21</td>\n",
       "      <td>60000</td>\n",
       "      <td>0.68</td>\n",
       "      <td>жен</td>\n",
       "      <td>40800.0</td>\n",
       "      <td>499800.0</td>\n",
       "    </tr>\n",
       "  </tbody>\n",
       "</table>\n",
       "</div>"
      ],
      "text/plain": [
       "     имя  возраст   доход  надежность клиента (0..1)  пол  Важность клиента  \\\n",
       "0   Петя       45  100000                       0.65  муж           65000.0   \n",
       "1   Вася       26   80000                       0.74  муж           59200.0   \n",
       "2    Аня       41  150000                       0.87  жен          130500.0   \n",
       "3  Света       21   60000                       0.68  жен           40800.0   \n",
       "\n",
       "   возможная долгосрочность клиента  \n",
       "0                         -763750.0  \n",
       "1                          429200.0  \n",
       "2                        -1011375.0  \n",
       "3                          499800.0  "
      ]
     },
     "execution_count": 83,
     "metadata": {},
     "output_type": "execute_result"
    }
   ],
   "source": [
    "df['возможная долгосрочность клиента'] = df['Важность клиента']*(df['возраст'].mean()-df['возраст'])\n",
    "df"
   ]
  },
  {
   "cell_type": "markdown",
   "metadata": {
    "colab_type": "text",
    "id": "MxFoJ2LubuYU"
   },
   "source": [
    "## Задание 6\n",
    "\n",
    "Посмотрите на блок Exploratory data analysis, используйте данные, кототрые вы загрузили в ходе его освоения. Ваша задача - вывести имена всех выживших детей и их количество"
   ]
  },
  {
   "cell_type": "code",
   "execution_count": 84,
   "metadata": {
    "colab": {},
    "colab_type": "code",
    "id": "i1IrZOJ1uQVw"
   },
   "outputs": [],
   "source": [
    "data = pd.read_csv('https://web.stanford.edu/class/archive/cs/cs109/cs109.1166/stuff/titanic.csv')"
   ]
  },
  {
   "cell_type": "code",
   "execution_count": 85,
   "metadata": {
    "colab": {},
    "colab_type": "code",
    "id": "yCXtLEbCuTvU"
   },
   "outputs": [
    {
     "data": {
      "text/html": [
       "<div>\n",
       "<style scoped>\n",
       "    .dataframe tbody tr th:only-of-type {\n",
       "        vertical-align: middle;\n",
       "    }\n",
       "\n",
       "    .dataframe tbody tr th {\n",
       "        vertical-align: top;\n",
       "    }\n",
       "\n",
       "    .dataframe thead th {\n",
       "        text-align: right;\n",
       "    }\n",
       "</style>\n",
       "<table border=\"1\" class=\"dataframe\">\n",
       "  <thead>\n",
       "    <tr style=\"text-align: right;\">\n",
       "      <th></th>\n",
       "      <th>Survived</th>\n",
       "      <th>Pclass</th>\n",
       "      <th>Name</th>\n",
       "      <th>Sex</th>\n",
       "      <th>Age</th>\n",
       "      <th>Siblings/Spouses Aboard</th>\n",
       "      <th>Parents/Children Aboard</th>\n",
       "      <th>Fare</th>\n",
       "    </tr>\n",
       "  </thead>\n",
       "  <tbody>\n",
       "    <tr>\n",
       "      <th>0</th>\n",
       "      <td>0</td>\n",
       "      <td>3</td>\n",
       "      <td>Mr. Owen Harris Braund</td>\n",
       "      <td>male</td>\n",
       "      <td>22.0</td>\n",
       "      <td>1</td>\n",
       "      <td>0</td>\n",
       "      <td>7.2500</td>\n",
       "    </tr>\n",
       "    <tr>\n",
       "      <th>1</th>\n",
       "      <td>1</td>\n",
       "      <td>1</td>\n",
       "      <td>Mrs. John Bradley (Florence Briggs Thayer) Cum...</td>\n",
       "      <td>female</td>\n",
       "      <td>38.0</td>\n",
       "      <td>1</td>\n",
       "      <td>0</td>\n",
       "      <td>71.2833</td>\n",
       "    </tr>\n",
       "    <tr>\n",
       "      <th>2</th>\n",
       "      <td>1</td>\n",
       "      <td>3</td>\n",
       "      <td>Miss. Laina Heikkinen</td>\n",
       "      <td>female</td>\n",
       "      <td>26.0</td>\n",
       "      <td>0</td>\n",
       "      <td>0</td>\n",
       "      <td>7.9250</td>\n",
       "    </tr>\n",
       "    <tr>\n",
       "      <th>3</th>\n",
       "      <td>1</td>\n",
       "      <td>1</td>\n",
       "      <td>Mrs. Jacques Heath (Lily May Peel) Futrelle</td>\n",
       "      <td>female</td>\n",
       "      <td>35.0</td>\n",
       "      <td>1</td>\n",
       "      <td>0</td>\n",
       "      <td>53.1000</td>\n",
       "    </tr>\n",
       "    <tr>\n",
       "      <th>4</th>\n",
       "      <td>0</td>\n",
       "      <td>3</td>\n",
       "      <td>Mr. William Henry Allen</td>\n",
       "      <td>male</td>\n",
       "      <td>35.0</td>\n",
       "      <td>0</td>\n",
       "      <td>0</td>\n",
       "      <td>8.0500</td>\n",
       "    </tr>\n",
       "  </tbody>\n",
       "</table>\n",
       "</div>"
      ],
      "text/plain": [
       "   Survived  Pclass                                               Name  \\\n",
       "0         0       3                             Mr. Owen Harris Braund   \n",
       "1         1       1  Mrs. John Bradley (Florence Briggs Thayer) Cum...   \n",
       "2         1       3                              Miss. Laina Heikkinen   \n",
       "3         1       1        Mrs. Jacques Heath (Lily May Peel) Futrelle   \n",
       "4         0       3                            Mr. William Henry Allen   \n",
       "\n",
       "      Sex   Age  Siblings/Spouses Aboard  Parents/Children Aboard     Fare  \n",
       "0    male  22.0                        1                        0   7.2500  \n",
       "1  female  38.0                        1                        0  71.2833  \n",
       "2  female  26.0                        0                        0   7.9250  \n",
       "3  female  35.0                        1                        0  53.1000  \n",
       "4    male  35.0                        0                        0   8.0500  "
      ]
     },
     "execution_count": 85,
     "metadata": {},
     "output_type": "execute_result"
    }
   ],
   "source": [
    "data.head()"
   ]
  },
  {
   "cell_type": "code",
   "execution_count": 86,
   "metadata": {},
   "outputs": [
    {
     "name": "stdout",
     "output_type": "stream",
     "text": [
      "<class 'pandas.core.frame.DataFrame'>\n",
      "RangeIndex: 887 entries, 0 to 886\n",
      "Data columns (total 8 columns):\n",
      " #   Column                   Non-Null Count  Dtype  \n",
      "---  ------                   --------------  -----  \n",
      " 0   Survived                 887 non-null    int64  \n",
      " 1   Pclass                   887 non-null    int64  \n",
      " 2   Name                     887 non-null    object \n",
      " 3   Sex                      887 non-null    object \n",
      " 4   Age                      887 non-null    float64\n",
      " 5   Siblings/Spouses Aboard  887 non-null    int64  \n",
      " 6   Parents/Children Aboard  887 non-null    int64  \n",
      " 7   Fare                     887 non-null    float64\n",
      "dtypes: float64(2), int64(4), object(2)\n",
      "memory usage: 55.6+ KB\n"
     ]
    }
   ],
   "source": [
    "data.info()"
   ]
  },
  {
   "cell_type": "code",
   "execution_count": 90,
   "metadata": {},
   "outputs": [
    {
     "data": {
      "text/plain": [
       "9           Mrs. Nicholas (Adele Achem) Nasser\n",
       "10              Miss. Marguerite Rut Sandstrom\n",
       "22                          Miss. Anna McGowan\n",
       "39                  Miss. Jamila Nicola-Yarred\n",
       "42     Miss. Simonne Marie Anne Andree Laroche\n",
       "                        ...                   \n",
       "826     Mrs. Antoni (Selini Alexander) Yasbeck\n",
       "827             Master. George Sibley Richards\n",
       "849                   Miss. Mary Conover Lines\n",
       "865             Master. Harold Theodor Johnson\n",
       "871                   Miss. Adele Kiamie Najib\n",
       "Name: Name, Length: 65, dtype: object"
      ]
     },
     "execution_count": 90,
     "metadata": {},
     "output_type": "execute_result"
    }
   ],
   "source": [
    "survived_children_df = data[(data['Survived']==1) & (data['Age']<18)]['Name']\n",
    "# длина Series выводится последней строкой (65 выживших детей)\n",
    "survived_children_df"
   ]
  },
  {
   "cell_type": "code",
   "execution_count": 91,
   "metadata": {},
   "outputs": [
    {
     "data": {
      "text/plain": [
       "['Mrs. Nicholas (Adele Achem) Nasser',\n",
       " 'Miss. Marguerite Rut Sandstrom',\n",
       " 'Miss. Anna McGowan',\n",
       " 'Miss. Jamila Nicola-Yarred',\n",
       " 'Miss. Simonne Marie Anne Andree Laroche',\n",
       " 'Miss. Constance Mirium West',\n",
       " 'Master. Gerios Moubarek',\n",
       " 'Miss. Erna Alexandra Andersson',\n",
       " 'Master. Alden Gates Caldwell',\n",
       " 'Miss. Bertha Ilett',\n",
       " 'Master. Elias Nicola-Yarred',\n",
       " 'Miss. Anna Peter',\n",
       " 'Miss. Katherine Gilnagh',\n",
       " 'Master. Frank John William Goldsmith',\n",
       " 'Miss. Eleanor Ileen Johnson',\n",
       " 'Master. Richard F Becker',\n",
       " 'Miss. Luise Gretchen Kink-Heilmann',\n",
       " 'Master. Michel M Navratil',\n",
       " 'Miss. Helen Carr',\n",
       " 'Mr. Victor Francis Sunderland',\n",
       " 'Miss. Lillian Gertrud Asplund',\n",
       " 'Miss. Marjorie Collyer',\n",
       " 'Master. Edvin Rojj Felix Asplund',\n",
       " 'Master. Hudson Trevor Allison',\n",
       " 'Mrs. Victor de Satode (Maria Josefa Perez de Soto y Vallejo) Penasco y Castellana',\n",
       " 'Miss. Jean Gertrude Hippach',\n",
       " 'Master. Edmond Roger Navratil',\n",
       " 'Master. William Loch Coutts',\n",
       " 'Miss. Maria Nakid',\n",
       " 'Miss. Bertha Lehmann',\n",
       " 'Master. William Rowe Richards',\n",
       " 'Miss. Lucile Polk Carter',\n",
       " 'Master. Washington Dodge',\n",
       " 'Miss. Madeleine Violet Mellinger',\n",
       " 'Miss. Marie Catherine Baclini',\n",
       " 'Miss. Helene Barbara Baclini',\n",
       " 'Miss. Hildur E Hirvonen',\n",
       " 'Master. Eden Leslie Coutts',\n",
       " 'Miss. Roberta Maioni',\n",
       " 'Miss. Phyllis May Quick',\n",
       " 'Miss. Eva Miriam Hart',\n",
       " 'Master. John Morgan Jr Davies',\n",
       " 'Mr. John Borland Jr Thayer',\n",
       " 'Miss. Marion Louise Becker',\n",
       " 'Miss. Eugenie Baclini',\n",
       " \"Miss. Hanora O'Leary\",\n",
       " 'Miss. Georgette Alexandra Madill',\n",
       " 'Miss. Manca Karun',\n",
       " 'Master. Halim Gonios Moubarek',\n",
       " 'Miss. Annie Jessie Harper',\n",
       " 'Miss. Joan Wells',\n",
       " 'Master. Meier Moor',\n",
       " 'Master. Viljo Hamalainen',\n",
       " 'Miss. Virginia Ethel Emanuel',\n",
       " 'Miss. Banoura Ayoub',\n",
       " 'Mrs. Albert Adrian (Vera Gillespie) Dick',\n",
       " 'Master. Bertram Vere Dean',\n",
       " 'Master. William Thornton II Carter',\n",
       " 'Master. Assad Alexander Thomas',\n",
       " 'Master. Andre Mallet',\n",
       " 'Mrs. Antoni (Selini Alexander) Yasbeck',\n",
       " 'Master. George Sibley Richards',\n",
       " 'Miss. Mary Conover Lines',\n",
       " 'Master. Harold Theodor Johnson',\n",
       " 'Miss. Adele Kiamie Najib']"
      ]
     },
     "execution_count": 91,
     "metadata": {},
     "output_type": "execute_result"
    }
   ],
   "source": [
    "list(survived_children_df)"
   ]
  },
  {
   "cell_type": "code",
   "execution_count": null,
   "metadata": {},
   "outputs": [],
   "source": []
  }
 ],
 "metadata": {
  "colab": {
   "collapsed_sections": [],
   "name": "Повторение python.ipynb",
   "provenance": [],
   "toc_visible": true
  },
  "kernelspec": {
   "display_name": "Python 3",
   "language": "python",
   "name": "python3"
  },
  "language_info": {
   "codemirror_mode": {
    "name": "ipython",
    "version": 3
   },
   "file_extension": ".py",
   "mimetype": "text/x-python",
   "name": "python",
   "nbconvert_exporter": "python",
   "pygments_lexer": "ipython3",
   "version": "3.8.3"
  }
 },
 "nbformat": 4,
 "nbformat_minor": 4
}
